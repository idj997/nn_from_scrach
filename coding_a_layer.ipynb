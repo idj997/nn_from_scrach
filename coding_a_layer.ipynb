{
 "cells": [
  {
   "cell_type": "code",
   "execution_count": 15,
   "metadata": {},
   "outputs": [],
   "source": [
    "inputs = [1.3,6.7,2.9,3.2] #Outputs by the previous layer of neurons for a single output block\n",
    "\n",
    "weights = [4.4,5.9,3,-3] #Weights for the first output neuron\n",
    "weights1 = [2.1,-7.4,2,-3]\n",
    "weights2 = [9.4,4.9,2,-5.9]\n",
    "\n",
    "bias = [3,5,2] #Bias for the output neurons, every single neuron has its own bias"
   ]
  },
  {
   "cell_type": "code",
   "execution_count": 16,
   "metadata": {},
   "outputs": [
    {
     "name": "stdout",
     "output_type": "stream",
     "text": [
      "47.35\n"
     ]
    }
   ],
   "source": [
    "output1 = (inputs[0]*weights[0] + inputs[1]*weights[1] + inputs[2]*weights[2] + inputs[3]*weights[3]) +bias[0] #Calculating the output of a first output neuron\n",
    "print(output1)"
   ]
  },
  {
   "cell_type": "code",
   "execution_count": 17,
   "metadata": {},
   "outputs": [
    {
     "name": "stdout",
     "output_type": "stream",
     "text": [
      "-45.65000000000001\n"
     ]
    }
   ],
   "source": [
    "output2 = (inputs[0]*weights1[0] + inputs[1]*weights1[1] + inputs[2]*weights1[2] + inputs[3]*weights1[3]) +bias[1] #Calculating the output of a second output neuron\n",
    "print(output2)"
   ]
  },
  {
   "cell_type": "code",
   "execution_count": 19,
   "metadata": {},
   "outputs": [
    {
     "name": "stdout",
     "output_type": "stream",
     "text": [
      "33.97\n"
     ]
    }
   ],
   "source": [
    "output3 = (inputs[0]*weights2[0] + inputs[1]*weights2[1] + inputs[2]*weights2[2] + inputs[3]*weights2[3]) +bias[2] #Calculating the output of a third output block\n",
    "print(output3)"
   ]
  }
 ],
 "metadata": {
  "kernelspec": {
   "display_name": "Python 3",
   "language": "python",
   "name": "python3"
  },
  "language_info": {
   "codemirror_mode": {
    "name": "ipython",
    "version": 3
   },
   "file_extension": ".py",
   "mimetype": "text/x-python",
   "name": "python",
   "nbconvert_exporter": "python",
   "pygments_lexer": "ipython3",
   "version": "3.11.9"
  }
 },
 "nbformat": 4,
 "nbformat_minor": 2
}

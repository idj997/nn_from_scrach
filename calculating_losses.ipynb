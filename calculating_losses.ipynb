{
 "cells": [
  {
   "cell_type": "markdown",
   "metadata": {},
   "source": [
    "**###Consolidating previous code into lists**"
   ]
  },
  {
   "cell_type": "code",
   "execution_count": 21,
   "metadata": {},
   "outputs": [],
   "source": [
    "inputs = [1.3,6.7,2.9,3.2] #Outputs by the previous layer of neurons for a single output block\n",
    "\n",
    "weights = [[4.4,5.9,3,-3], #Weights for neurons where 1st row is the wight for first neuron\n",
    "            [2.1,-7.4,2,-3],\n",
    "            [9.4,4.9,2,-5.9]]\n",
    "\n",
    "biass = [3,5,2] #Bias for the output neurons, every single neuron has its own bias\n",
    "\n",
    "actual_values = [48,-50,32]"
   ]
  },
  {
   "cell_type": "code",
   "execution_count": 15,
   "metadata": {},
   "outputs": [
    {
     "name": "stdout",
     "output_type": "stream",
     "text": [
      "[47.35, -45.65000000000001, 33.97]\n"
     ]
    }
   ],
   "source": [
    "outputs = []\n",
    "for n_weight,bias in zip(weights,biass):\n",
    "    output = 0\n",
    "    for input_v,weight_v in zip(inputs, n_weight):\n",
    "        output += input_v*weight_v\n",
    "    output+=bias #Calculating the output of a neuron\n",
    "    outputs.append(output)\n",
    "print(outputs)"
   ]
  },
  {
   "cell_type": "markdown",
   "metadata": {},
   "source": [
    "**###We will be using numpy arrays instead of lists and dot product instead of multiplication to perform above operations**"
   ]
  },
  {
   "cell_type": "code",
   "execution_count": 16,
   "metadata": {},
   "outputs": [],
   "source": [
    "import numpy as np"
   ]
  },
  {
   "cell_type": "code",
   "execution_count": 20,
   "metadata": {},
   "outputs": [
    {
     "name": "stdout",
     "output_type": "stream",
     "text": [
      "[ 47.35 -45.65  33.97]\n"
     ]
    }
   ],
   "source": [
    "np_output = np.dot(weights,inputs)+ biass\n",
    "print(np_output)"
   ]
  },
  {
   "cell_type": "code",
   "execution_count": 22,
   "metadata": {},
   "outputs": [
    {
     "name": "stdout",
     "output_type": "stream",
     "text": [
      "[ 0.65 -4.35 -1.97]\n"
     ]
    }
   ],
   "source": [
    "losses = actual_values - np_output\n",
    "print(losses)"
   ]
  }
 ],
 "metadata": {
  "kernelspec": {
   "display_name": "Python 3",
   "language": "python",
   "name": "python3"
  },
  "language_info": {
   "codemirror_mode": {
    "name": "ipython",
    "version": 3
   },
   "file_extension": ".py",
   "mimetype": "text/x-python",
   "name": "python",
   "nbconvert_exporter": "python",
   "pygments_lexer": "ipython3",
   "version": "3.11.9"
  }
 },
 "nbformat": 4,
 "nbformat_minor": 2
}

{
 "cells": [
  {
   "cell_type": "code",
   "execution_count": 15,
   "metadata": {},
   "outputs": [],
   "source": [
    "inputs = [1.3,6.7,2.9] #Outputs by the previous layer of neurons\n",
    "weights = [4.4,5.9,3.3] #Weights for the cirrent neuron\n",
    "bias = 3 #Bias for the current neuron, every single neuron has its own bias"
   ]
  },
  {
   "cell_type": "code",
   "execution_count": 16,
   "metadata": {},
   "outputs": [
    {
     "name": "stdout",
     "output_type": "stream",
     "text": [
      "57.82\n"
     ]
    }
   ],
   "source": [
    "output = (inputs[0]*weights[0] + inputs[1]*weights[1] + inputs[2]*weights[2]) +bias #Calculating the output of a single neuron\n",
    "print(output) #Print the output of the single neuron"
   ]
  },
  {
   "cell_type": "code",
   "execution_count": null,
   "metadata": {},
   "outputs": [],
   "source": []
  }
 ],
 "metadata": {
  "kernelspec": {
   "display_name": "Python 3",
   "language": "python",
   "name": "python3"
  },
  "language_info": {
   "codemirror_mode": {
    "name": "ipython",
    "version": 3
   },
   "file_extension": ".py",
   "mimetype": "text/x-python",
   "name": "python",
   "nbconvert_exporter": "python",
   "pygments_lexer": "ipython3",
   "version": "3.11.9"
  }
 },
 "nbformat": 4,
 "nbformat_minor": 2
}

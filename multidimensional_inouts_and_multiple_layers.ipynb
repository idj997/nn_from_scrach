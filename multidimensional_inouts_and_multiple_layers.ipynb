{
 "cells": [
  {
   "cell_type": "code",
   "execution_count": 2,
   "metadata": {},
   "outputs": [],
   "source": [
    "import numpy as np"
   ]
  },
  {
   "cell_type": "code",
   "execution_count": 38,
   "metadata": {},
   "outputs": [],
   "source": [
    "inputs = [[1.3,6.7,2.9,3.2],\n",
    "          [6.2,9.7,1.9,4.2],\n",
    "          [3.3,5.2,1.3,6.6]] #Initial multidimesional input e.g. each row represents a single row where each value is represents some aspect of weather like humidity, moisture etc\n",
    "\n",
    "weights = [[4.4,5.9,3,-3], #Weights for first hidden layer\n",
    "            [2.1,7.4,2,-3],\n",
    "            [9.4,4.9,2,-5.9]]\n",
    "\n",
    "weights1 = [[1,6.9,4.1], #Weights for first hidden layer\n",
    "            [3.2,1.2,6],\n",
    "            [4.4,4.1,7,]]\n",
    "\n",
    "biass = [3,5,2] #Bias for the first hidden layer\n",
    "\n",
    "biass1 = [5,1,-7]\n",
    "\n",
    "actual_values = [48,-50,32]"
   ]
  },
  {
   "cell_type": "code",
   "execution_count": 39,
   "metadata": {},
   "outputs": [
    {
     "ename": "ValueError",
     "evalue": "shapes (3,4) and (3,4) not aligned: 4 (dim 1) != 3 (dim 0)",
     "output_type": "error",
     "traceback": [
      "\u001b[1;31m---------------------------------------------------------------------------\u001b[0m",
      "\u001b[1;31mValueError\u001b[0m                                Traceback (most recent call last)",
      "Cell \u001b[1;32mIn[39], line 1\u001b[0m\n\u001b[1;32m----> 1\u001b[0m layer1_outputs \u001b[38;5;241m=\u001b[39m \u001b[43mnp\u001b[49m\u001b[38;5;241;43m.\u001b[39;49m\u001b[43mdot\u001b[49m\u001b[43m(\u001b[49m\u001b[43mweights\u001b[49m\u001b[43m,\u001b[49m\u001b[43minputs\u001b[49m\u001b[43m)\u001b[49m \u001b[38;5;66;03m#We will get error for this as the shapes of both matrices does not match\u001b[39;00m\n",
      "File \u001b[1;32m<__array_function__ internals>:180\u001b[0m, in \u001b[0;36mdot\u001b[1;34m(*args, **kwargs)\u001b[0m\n",
      "\u001b[1;31mValueError\u001b[0m: shapes (3,4) and (3,4) not aligned: 4 (dim 1) != 3 (dim 0)"
     ]
    }
   ],
   "source": [
    "layer1_outputs = np.dot(weights,inputs) #We will get error for this as the shapes of both matrices does not match"
   ]
  },
  {
   "cell_type": "code",
   "execution_count": 40,
   "metadata": {},
   "outputs": [
    {
     "name": "stdout",
     "output_type": "stream",
     "text": [
      "[[47.35 53.51 33.97]\n",
      " [80.61 81.   86.83]\n",
      " [32.3  33.21 22.16]]\n"
     ]
    }
   ],
   "source": [
    "#To solve above error we will perform transpose on the weights matrix so that multiplication is possible in multidimesional or multiple layers this is often the case\n",
    "layer1_outputs = np.dot(inputs,np.array(weights).T) + biass\n",
    "\n",
    "print(layer1_outputs)"
   ]
  },
  {
   "cell_type": "code",
   "execution_count": 42,
   "metadata": {},
   "outputs": [
    {
     "name": "stdout",
     "output_type": "stream",
     "text": [
      "[[1.  6.9 4.1]\n",
      " [3.2 1.2 6. ]\n",
      " [4.4 4.1 7. ]]\n",
      "[[ 373.05   531.204  745.985]\n",
      " [ 726.862 1010.412 1417.311]\n",
      " [ 241.076  354.578  479.81 ]]\n"
     ]
    }
   ],
   "source": [
    "weights1=np.array(weights1).T\n",
    "\n",
    "print(weights1)\n",
    "\n",
    "layer2_outputs = (np.dot(layer1_outputs,weights1)) + biass1\n",
    "\n",
    "print(layer2_outputs)"
   ]
  },
  {
   "cell_type": "code",
   "execution_count": null,
   "metadata": {},
   "outputs": [],
   "source": []
  }
 ],
 "metadata": {
  "kernelspec": {
   "display_name": "Python 3",
   "language": "python",
   "name": "python3"
  },
  "language_info": {
   "codemirror_mode": {
    "name": "ipython",
    "version": 3
   },
   "file_extension": ".py",
   "mimetype": "text/x-python",
   "name": "python",
   "nbconvert_exporter": "python",
   "pygments_lexer": "ipython3",
   "version": "3.11.9"
  }
 },
 "nbformat": 4,
 "nbformat_minor": 2
}

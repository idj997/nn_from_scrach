{
 "cells": [
  {
   "cell_type": "code",
   "execution_count": 4,
   "metadata": {},
   "outputs": [],
   "source": [
    "import numpy as np"
   ]
  },
  {
   "cell_type": "code",
   "execution_count": 5,
   "metadata": {},
   "outputs": [],
   "source": [
    "inputs = [[1.3,6.7,2.9,3.2],\n",
    "          [6.2,9.7,1.9,4.2],\n",
    "          [3.3,5.2,1.3,6.6]] #Initial multidimesional input e.g. each row represents a single row where each value is represents some aspect of weather like humidity, moisture etc\n",
    "\n",
    "weights = [[4.4,5.9,3,-3], #Weights for first hidden layer\n",
    "            [2.1,7.4,2,-3],\n",
    "            [9.4,4.9,2,-5.9]]\n",
    "\n",
    "weights1 = [[1,6.9,4.1], #Weights for first hidden layer\n",
    "            [3.2,1.2,6],\n",
    "            [4.4,4.1,7,]]\n",
    "\n",
    "biass = [3,5,2] #Bias for the first hidden layer\n",
    "\n",
    "biass1 = [5,1,-7]\n",
    "\n",
    "actual_values = [48,-50,32]"
   ]
  },
  {
   "cell_type": "code",
   "execution_count": 6,
   "metadata": {},
   "outputs": [
    {
     "ename": "ValueError",
     "evalue": "shapes (3,4) and (3,4) not aligned: 4 (dim 1) != 3 (dim 0)",
     "output_type": "error",
     "traceback": [
      "\u001b[1;31m---------------------------------------------------------------------------\u001b[0m",
      "\u001b[1;31mValueError\u001b[0m                                Traceback (most recent call last)",
      "Cell \u001b[1;32mIn[6], line 1\u001b[0m\n\u001b[1;32m----> 1\u001b[0m layer1_outputs \u001b[38;5;241m=\u001b[39m \u001b[43mnp\u001b[49m\u001b[38;5;241;43m.\u001b[39;49m\u001b[43mdot\u001b[49m\u001b[43m(\u001b[49m\u001b[43mweights\u001b[49m\u001b[43m,\u001b[49m\u001b[43minputs\u001b[49m\u001b[43m)\u001b[49m \u001b[38;5;66;03m#We will get error for this as the shapes of both matrices does not match\u001b[39;00m\n",
      "File \u001b[1;32m<__array_function__ internals>:180\u001b[0m, in \u001b[0;36mdot\u001b[1;34m(*args, **kwargs)\u001b[0m\n",
      "\u001b[1;31mValueError\u001b[0m: shapes (3,4) and (3,4) not aligned: 4 (dim 1) != 3 (dim 0)"
     ]
    }
   ],
   "source": [
    "layer1_outputs = np.dot(weights,inputs) #We will get error for this as the shapes of both matrices does not match"
   ]
  },
  {
   "cell_type": "code",
   "execution_count": 7,
   "metadata": {},
   "outputs": [
    {
     "name": "stdout",
     "output_type": "stream",
     "text": [
      "[[47.35 53.51 33.97]\n",
      " [80.61 81.   86.83]\n",
      " [32.3  33.21 22.16]]\n"
     ]
    }
   ],
   "source": [
    "#To solve above error we will perform transpose on the weights matrix so that multiplication is possible in multidimesional or multiple layers this is often the case\n",
    "layer1_outputs = np.dot(inputs,np.array(weights).T) + biass\n",
    "\n",
    "print(layer1_outputs)"
   ]
  },
  {
   "cell_type": "code",
   "execution_count": 8,
   "metadata": {},
   "outputs": [
    {
     "name": "stdout",
     "output_type": "stream",
     "text": [
      "[[1.  3.2 4.4]\n",
      " [6.9 1.2 4.1]\n",
      " [4.1 6.  7. ]]\n",
      "[[ 560.846  420.552  658.521]\n",
      " [1000.513  877.132 1287.594]\n",
      " [ 357.305  277.172  426.401]]\n"
     ]
    }
   ],
   "source": [
    "weights1=np.array(weights1).T\n",
    "\n",
    "print(weights1)\n",
    "\n",
    "layer2_outputs = (np.dot(layer1_outputs,weights1)) + biass1\n",
    "\n",
    "print(layer2_outputs)"
   ]
  },
  {
   "cell_type": "markdown",
   "metadata": {},
   "source": [
    "Generally the neural networks contains hundreds even thousands of layers and defining each of the layer separately is not feasible hence we will define classes to simplify the above process for us"
   ]
  },
  {
   "cell_type": "markdown",
   "metadata": {},
   "source": [
    "Now above layers will need weights and biasis for each layer we will need different weights and biasis, below I will show how to initialize weights and biasis. Generally we choose the values of weights and biasis between a small range such as (-1,1) or (0,1) the reason for this is because the higher weights/biasis will change the output for that layer drastically. As you can see above the difference of layer1 and layer2 output is massive.\n",
    "\n",
    "`Note:- when we set the weights to small values and set the biasis to zero then sometimes what happens is multiplying by small values can give a very small number and then if we add zero to that then our whole network output becomes zero, which is called a dead network so if you've set the biasis to zero and getting zero output then try setting biasis to non-zero values`"
   ]
  },
  {
   "cell_type": "code",
   "execution_count": 20,
   "metadata": {},
   "outputs": [],
   "source": [
    "np.random.seed(0)\n",
    "class layer_creation:\n",
    "    def __init__(self,n_inputs,n_neurons):\n",
    "        self.weights = 0.10*np.random.rand(n_inputs,n_neurons) #Multiplied by 0.1 to keep the weights values between 0,1\n",
    "        self.biasis = np.zeros((1,n_neurons))\n",
    "    def forward(self,x_input):\n",
    "        self.outputs = np.dot(x_input,self.weights) + self.biasis\n",
    "        return self.outputs"
   ]
  },
  {
   "cell_type": "code",
   "execution_count": 21,
   "metadata": {},
   "outputs": [],
   "source": [
    "layer1 = layer_creation(4,100) # here now we have power to define as many neurons as we can here I am defining 100 neurons\n",
    "layers2 = layer_creation(100,50) #Note that the input of second layer should math the output of first layers as first layer output is going to be forwarded to the second layer\n",
    "output1 = layer1.forward(inputs)\n",
    "output2 = layers2.forward(output1)"
   ]
  },
  {
   "cell_type": "code",
   "execution_count": 25,
   "metadata": {},
   "outputs": [
    {
     "name": "stdout",
     "output_type": "stream",
     "text": [
      "(3, 100)\n",
      "(3, 50)\n"
     ]
    }
   ],
   "source": [
    "print(output1.shape)\n",
    "print(output2.shape)"
   ]
  },
  {
   "cell_type": "code",
   "execution_count": null,
   "metadata": {},
   "outputs": [],
   "source": []
  }
 ],
 "metadata": {
  "kernelspec": {
   "display_name": "Python 3",
   "language": "python",
   "name": "python3"
  },
  "language_info": {
   "codemirror_mode": {
    "name": "ipython",
    "version": 3
   },
   "file_extension": ".py",
   "mimetype": "text/x-python",
   "name": "python",
   "nbconvert_exporter": "python",
   "pygments_lexer": "ipython3",
   "version": "3.11.9"
  }
 },
 "nbformat": 4,
 "nbformat_minor": 2
}
